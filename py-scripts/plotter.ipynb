{
 "cells": [
  {
   "cell_type": "code",
   "execution_count": 1,
   "metadata": {},
   "outputs": [],
   "source": [
    "# plots will be shown inline \n",
    "%matplotlib inline \n",
    "import matplotlib.pyplot as plt\n",
    "\n",
    "import numpy\n",
    "from numpy import sqrt,floor\n",
    "\n",
    "import numpy as np\n",
    "import scipy as sp\n",
    "from scipy import stats\n",
    "\n",
    "import pandas as pd\n",
    "import random\n",
    "import math\n",
    "\n",
    "# libreria locale\n",
    "import fitlib as my"
   ]
  },
  {
   "cell_type": "code",
   "execution_count": 9,
   "metadata": {},
   "outputs": [
    {
     "data": {
      "text/plain": [
       "<matplotlib.legend.Legend at 0x7fd2230d0340>"
      ]
     },
     "execution_count": 9,
     "metadata": {},
     "output_type": "execute_result"
    },
    {
     "data": {
      "image/png": "[encoded data removed]",
      "text/plain": [
       "<Figure size 432x288 with 1 Axes>"
      ]
     },
     "metadata": {
      "needs_background": "light"
     },
     "output_type": "display_data"
    }
   ],
   "source": [
    "df = pd.read_csv(\"eulerocromer.csv\")\n",
    "x = df['t'].to_numpy()\n",
    "y = df['x'].to_numpy()\n",
    "plt.plot(x, y,label=\"Cromer\")\n",
    "\n",
    "df = pd.read_csv(\"leapfrog.csv\")\n",
    "x = df['t'].to_numpy()\n",
    "y = df['x'].to_numpy()\n",
    "plt.plot(x, y,label=\"LeapFrog\")\n",
    "\n",
    "df = pd.read_csv(\"eulero.csv\")\n",
    "x = df['t'].to_numpy()\n",
    "y = df['x'].to_numpy()\n",
    "plt.plot(x, y,label=\"Eulero\")\n",
    "\n",
    "plt.ylabel(\"Tempo (s)\")\n",
    "plt.xlabel(\"Posizione (x)\")\n",
    "\n",
    "plt.legend()"
   ]
  },
  {
   "cell_type": "code",
   "execution_count": 11,
   "metadata": {},
   "outputs": [
    {
     "data": {
      "text/html": [
       "<div>\n",
       "<style scoped>\n",
       "    .dataframe tbody tr th:only-of-type {\n",
       "        vertical-align: middle;\n",
       "    }\n",
       "\n",
       "    .dataframe tbody tr th {\n",
       "        vertical-align: top;\n",
       "    }\n",
       "\n",
       "    .dataframe thead th {\n",
       "        text-align: right;\n",
       "    }\n",
       "</style>\n",
       "<table border=\"1\" class=\"dataframe\">\n",
       "  <thead>\n",
       "    <tr style=\"text-align: right;\">\n",
       "      <th></th>\n",
       "      <th>t</th>\n",
       "      <th>x</th>\n",
       "      <th>v</th>\n",
       "      <th>dE</th>\n",
       "    </tr>\n",
       "  </thead>\n",
       "  <tbody>\n",
       "    <tr>\n",
       "      <th>0</th>\n",
       "      <td>0.000000</td>\n",
       "      <td>1.090000</td>\n",
       "      <td>0.900000</td>\n",
       "      <td>0.000000</td>\n",
       "    </tr>\n",
       "    <tr>\n",
       "      <th>1</th>\n",
       "      <td>0.100000</td>\n",
       "      <td>1.169100</td>\n",
       "      <td>0.791000</td>\n",
       "      <td>-0.000950</td>\n",
       "    </tr>\n",
       "    <tr>\n",
       "      <th>2</th>\n",
       "      <td>0.200000</td>\n",
       "      <td>1.236509</td>\n",
       "      <td>0.674090</td>\n",
       "      <td>-0.003762</td>\n",
       "    </tr>\n",
       "    <tr>\n",
       "      <th>3</th>\n",
       "      <td>0.300000</td>\n",
       "      <td>1.291553</td>\n",
       "      <td>0.550439</td>\n",
       "      <td>-0.008324</td>\n",
       "    </tr>\n",
       "    <tr>\n",
       "      <th>4</th>\n",
       "      <td>0.400000</td>\n",
       "      <td>1.333681</td>\n",
       "      <td>0.421284</td>\n",
       "      <td>-0.014454</td>\n",
       "    </tr>\n",
       "    <tr>\n",
       "      <th>...</th>\n",
       "      <td>...</td>\n",
       "      <td>...</td>\n",
       "      <td>...</td>\n",
       "      <td>...</td>\n",
       "    </tr>\n",
       "    <tr>\n",
       "      <th>1098</th>\n",
       "      <td>9.960000</td>\n",
       "      <td>-1.371047</td>\n",
       "      <td>-0.338934</td>\n",
       "      <td>-0.002589</td>\n",
       "    </tr>\n",
       "    <tr>\n",
       "      <th>1099</th>\n",
       "      <td>9.970000</td>\n",
       "      <td>-1.374300</td>\n",
       "      <td>-0.325223</td>\n",
       "      <td>-0.002677</td>\n",
       "    </tr>\n",
       "    <tr>\n",
       "      <th>1100</th>\n",
       "      <td>9.980000</td>\n",
       "      <td>-1.377414</td>\n",
       "      <td>-0.311480</td>\n",
       "      <td>-0.002765</td>\n",
       "    </tr>\n",
       "    <tr>\n",
       "      <th>1101</th>\n",
       "      <td>9.990000</td>\n",
       "      <td>-1.380391</td>\n",
       "      <td>-0.297706</td>\n",
       "      <td>-0.002855</td>\n",
       "    </tr>\n",
       "    <tr>\n",
       "      <th>1102</th>\n",
       "      <td>10.000000</td>\n",
       "      <td>-1.383230</td>\n",
       "      <td>-0.283902</td>\n",
       "      <td>-0.002945</td>\n",
       "    </tr>\n",
       "  </tbody>\n",
       "</table>\n",
       "<p>1103 rows × 4 columns</p>\n",
       "</div>"
      ],
      "text/plain": [
       "              t          x          v         dE\n",
       "0      0.000000   1.090000   0.900000   0.000000\n",
       "1      0.100000   1.169100   0.791000  -0.000950\n",
       "2      0.200000   1.236509   0.674090  -0.003762\n",
       "3      0.300000   1.291553   0.550439  -0.008324\n",
       "4      0.400000   1.333681   0.421284  -0.014454\n",
       "...         ...        ...        ...        ...\n",
       "1098   9.960000  -1.371047  -0.338934  -0.002589\n",
       "1099   9.970000  -1.374300  -0.325223  -0.002677\n",
       "1100   9.980000  -1.377414  -0.311480  -0.002765\n",
       "1101   9.990000  -1.380391  -0.297706  -0.002855\n",
       "1102  10.000000  -1.383230  -0.283902  -0.002945\n",
       "\n",
       "[1103 rows x 4 columns]"
      ]
     },
     "execution_count": 11,
     "metadata": {},
     "output_type": "execute_result"
    }
   ],
   "source": [
    "df = pd.read_csv(\"step_cromer.csv\")\n",
    "df"
   ]
  }
 ],
 "metadata": {
  "interpreter": {
   "hash": "aee8b7b246df8f9039afb4144a1f6fd8d2ca17a180786b69acc140d282b71a49"
  },
  "kernelspec": {
   "display_name": "Python 3.8.5 64-bit",
   "name": "python3"
  },
  "language_info": {
   "codemirror_mode": {
    "name": "ipython",
    "version": 3
   },
   "file_extension": ".py",
   "mimetype": "text/x-python",
   "name": "python",
   "nbconvert_exporter": "python",
   "pygments_lexer": "ipython3",
   "version": "3.8.5"
  },
  "orig_nbformat": 4
 },
 "nbformat": 4,
 "nbformat_minor": 2
}
